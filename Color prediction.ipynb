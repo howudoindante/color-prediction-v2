{
 "cells": [
  {
   "cell_type": "code",
   "execution_count": 829,
   "metadata": {},
   "outputs": [],
   "source": [
    "%matplotlib inline"
   ]
  },
  {
   "cell_type": "code",
   "execution_count": 830,
   "metadata": {},
   "outputs": [],
   "source": [
    "from matplotlib import pyplot as plt \n",
    "import numpy as np"
   ]
  },
  {
   "cell_type": "code",
   "execution_count": 831,
   "metadata": {},
   "outputs": [],
   "source": [
    "data = [[3,1.5,1    ],# matrix w/ dataset for neural train\n",
    "        [2, 1 ,0    ], \n",
    "        [4, 1.5, 1  ], \n",
    "        [3,1,0      ],\n",
    "        [3.5,.5, 1  ] , \n",
    "        [ 2, .5 , 0 ], \n",
    "        [ 5.5 , 1, 1], \n",
    "        [ 1 ,1 ,0  ]]\n",
    "mystery_flower = [4.5, 1] #thats unknown color for neural"
   ]
  },
  {
   "cell_type": "code",
   "execution_count": 832,
   "metadata": {},
   "outputs": [
    {
     "data": {
      "text/plain": [
       "[3, 1.5, 1]"
      ]
     },
     "execution_count": 832,
     "metadata": {},
     "output_type": "execute_result"
    }
   ],
   "source": [
    "data[0]"
   ]
  },
  {
   "cell_type": "code",
   "execution_count": 833,
   "metadata": {},
   "outputs": [
    {
     "data": {
      "text/plain": [
       "[2, 1, 0]"
      ]
     },
     "execution_count": 833,
     "metadata": {},
     "output_type": "execute_result"
    }
   ],
   "source": [
    "data[1]"
   ]
  },
  {
   "cell_type": "code",
   "execution_count": 834,
   "metadata": {},
   "outputs": [
    {
     "data": {
      "text/plain": [
       "3"
      ]
     },
     "execution_count": 834,
     "metadata": {},
     "output_type": "execute_result"
    }
   ],
   "source": [
    "data[0][0] #how to call the data"
   ]
  },
  {
   "cell_type": "code",
   "execution_count": 835,
   "metadata": {},
   "outputs": [],
   "source": [
    "#_______________________________________________________________"
   ]
  },
  {
   "cell_type": "code",
   "execution_count": 836,
   "metadata": {},
   "outputs": [],
   "source": [
    "#neural looks like \n",
    " \n",
    "#output    o    only in [-1,1]\n",
    "#    w1 /  |w2\\ w3 any?\n",
    "#      o   o   o b.input= 1 , and 2 first circles it's the data which u give to neural"
   ]
  },
  {
   "cell_type": "code",
   "execution_count": 837,
   "metadata": {},
   "outputs": [],
   "source": [
    "w1 = np.random.randn() \n",
    "w2 = np.random.randn() \n",
    "b = np.random.randn()"
   ]
  },
  {
   "cell_type": "code",
   "execution_count": 838,
   "metadata": {},
   "outputs": [],
   "source": [
    "def sigmoid(x):\n",
    "    return 1/(1 + np.exp(-x)) \n",
    " \n",
    "def sigmoid_p(x): \n",
    "    return sigmoid(x)* (1-sigmoid(x)) #тут у нас производная сигмоидной функции"
   ]
  },
  {
   "cell_type": "code",
   "execution_count": 839,
   "metadata": {},
   "outputs": [
    {
     "data": {
      "text/plain": [
       "array([-5.        , -3.88888889, -2.77777778, -1.66666667, -0.55555556,\n",
       "        0.55555556,  1.66666667,  2.77777778,  3.88888889,  5.        ])"
      ]
     },
     "execution_count": 839,
     "metadata": {},
     "output_type": "execute_result"
    }
   ],
   "source": [
    "T = np.linspace(-5 , 5, 10) #Функция linspace() возвращает одномерный массив из указанного количества элементов, значения которых равномерно распределенны внутри заданного интервала.\n",
    "T\n",
    "#если коротко то тут от - 5 до 5 10 элементов"
   ]
  },
  {
   "cell_type": "code",
   "execution_count": 840,
   "metadata": {},
   "outputs": [
    {
     "data": {
      "text/plain": [
       "array([0.00669285, 0.02005754, 0.0585369 , 0.1588691 , 0.36457644,\n",
       "       0.63542356, 0.8411309 , 0.9414631 , 0.97994246, 0.99330715])"
      ]
     },
     "execution_count": 840,
     "metadata": {},
     "output_type": "execute_result"
    }
   ],
   "source": [
    "Y = sigmoid(T)\n",
    "Y# все эти значения теперь у нас от [-1,1]"
   ]
  },
  {
   "cell_type": "code",
   "execution_count": 841,
   "metadata": {},
   "outputs": [
    {
     "data": {
      "text/plain": [
       "[<matplotlib.lines.Line2D at 0x23f96ce7fd0>]"
      ]
     },
     "execution_count": 841,
     "metadata": {},
     "output_type": "execute_result"
    },
    {
     "data": {
      "image/png": "[encoded data removed]",
      "text/plain": [
       "<Figure size 432x288 with 1 Axes>"
      ]
     },
     "metadata": {
      "needs_background": "light"
     },
     "output_type": "display_data"
    }
   ],
   "source": [
    "plt.plot(T,Y)#строим график функции \n",
    "# повышая в linspace последнее значение мы увеличиваем плавность функции. \n",
    "# повышая первые два значения мы делаем функцию более приближенной к y"
   ]
  },
  {
   "cell_type": "code",
   "execution_count": 842,
   "metadata": {},
   "outputs": [
    {
     "data": {
      "text/plain": [
       "[<matplotlib.lines.Line2D at 0x23f96d452e0>]"
      ]
     },
     "execution_count": 842,
     "metadata": {},
     "output_type": "execute_result"
    },
    {
     "data": {
      "image/png": "[encoded data removed]",
      "text/plain": [
       "<Figure size 432x288 with 1 Axes>"
      ]
     },
     "metadata": {
      "needs_background": "light"
     },
     "output_type": "display_data"
    }
   ],
   "source": [
    "T = np.linspace(-20 , 20, 100) \n",
    "Y = sigmoid(T) \n",
    "plt.plot(T,Y)"
   ]
  },
  {
   "cell_type": "code",
   "execution_count": 843,
   "metadata": {},
   "outputs": [
    {
     "data": {
      "text/plain": [
       "[<matplotlib.lines.Line2D at 0x23f96da07c0>]"
      ]
     },
     "execution_count": 843,
     "metadata": {},
     "output_type": "execute_result"
    },
    {
     "data": {
      "image/png": "[encoded data removed]",
      "text/plain": [
       "<Figure size 432x288 with 1 Axes>"
      ]
     },
     "metadata": {
      "needs_background": "light"
     },
     "output_type": "display_data"
    }
   ],
   "source": [
    "T = np.linspace(-5 , 5, 100) #график другой функции.\n",
    "Y = sigmoid_p(T) \n",
    "plt.plot(T,sigmoid(T), c = 'g') \n",
    "plt.plot(T,sigmoid_p(T), c = 'r')"
   ]
  },
  {
   "cell_type": "code",
   "execution_count": 844,
   "metadata": {},
   "outputs": [
    {
     "data": {
      "image/png": "[encoded data removed]",
      "text/plain": [
       "<Figure size 432x288 with 1 Axes>"
      ]
     },
     "metadata": {
      "needs_background": "light"
     },
     "output_type": "display_data"
    }
   ],
   "source": [
    "#scatter data \n",
    "plt.axis([0,6,0,6]) # x.min x.max y.miny.max\n",
    "plt.grid()#сетка\n",
    "for i in range(len(data)): \n",
    "    point = data[i]  \n",
    "    color = \"r\" \n",
    "    if point[2] == 0:# какие цвета у нас в массиве ,такие и тут\n",
    "         color = \"b\"\n",
    "    plt.scatter(point[0],point[1],c=color)"
   ]
  },
  {
   "cell_type": "code",
   "execution_count": 845,
   "metadata": {
    "scrolled": true
   },
   "outputs": [
    {
     "name": "stdout",
     "output_type": "stream",
     "text": [
      "Weight 1 in  0 epoch = 2.0976573165992343\n",
      "Weight 2 in  0 epoch = 1.2716432436800562\n",
      "B in  0 epoch = 0.2130687620701713\n",
      "cost in  0 epoch = 4.890830861101806e-12\n",
      "-------------------------------\n",
      "Weight 1 in  5000 epoch = 5.626923543650015\n",
      "Weight 2 in  5000 epoch = 1.4176486550346545\n",
      "B in  5000 epoch = -16.65922473800299\n",
      "cost in  5000 epoch = 1.1823821442304985e-07\n",
      "-------------------------------\n",
      "Weight 1 in  10000 epoch = 6.988513075428977\n",
      "Weight 2 in  10000 epoch = 3.576897451491425\n",
      "B in  10000 epoch = -23.296213073214805\n",
      "cost in  10000 epoch = 0.0027826663248042443\n",
      "-------------------------------\n",
      "Weight 1 in  15000 epoch = 9.166195583998693\n",
      "Weight 2 in  15000 epoch = 3.483254857837254\n",
      "B in  15000 epoch = -29.899351457564162\n",
      "cost in  15000 epoch = 0.0036159759902816093\n",
      "-------------------------------\n",
      "Weight 1 in  20000 epoch = 10.695274699690172\n",
      "Weight 2 in  20000 epoch = 4.248917459955806\n",
      "B in  20000 epoch = -36.827581655442415\n",
      "cost in  20000 epoch = 0.15825115141689222\n",
      "-------------------------------\n",
      "Weight 1 in  25000 epoch = 12.295022623402858\n",
      "Weight 2 in  25000 epoch = 5.388694629676426\n",
      "B in  25000 epoch = -42.593971965424636\n",
      "cost in  25000 epoch = 1.1029244062179741e-11\n",
      "-------------------------------\n",
      "Weight 1 in  30000 epoch = 13.247572174339721\n",
      "Weight 2 in  30000 epoch = 6.045493116867872\n",
      "B in  30000 epoch = -46.69493748091111\n",
      "cost in  30000 epoch = 4.522247452824143e-14\n",
      "-------------------------------\n",
      "Weight 1 in  35000 epoch = 13.69288073226859\n",
      "Weight 2 in  35000 epoch = 6.385127192506648\n",
      "B in  35000 epoch = -49.72622074625761\n",
      "cost in  35000 epoch = 0.013610665241829297\n",
      "-------------------------------\n",
      "Weight 1 in  40000 epoch = 14.741800799342688\n",
      "Weight 2 in  40000 epoch = 6.897968129187202\n",
      "B in  40000 epoch = -51.959340894461654\n",
      "cost in  40000 epoch = 0.005811822692208746\n",
      "-------------------------------\n",
      "Weight 1 in  45000 epoch = 14.92846504286722\n",
      "Weight 2 in  45000 epoch = 7.165948162070878\n",
      "B in  45000 epoch = -53.99322419188218\n",
      "cost in  45000 epoch = 0.03251819955394836\n",
      "-------------------------------\n"
     ]
    },
    {
     "data": {
      "text/plain": [
       "[<matplotlib.lines.Line2D at 0x23f96e72820>]"
      ]
     },
     "execution_count": 845,
     "metadata": {},
     "output_type": "execute_result"
    },
    {
     "data": {
      "image/png": "[encoded data removed]",
      "text/plain": [
       "<Figure size 432x288 with 1 Axes>"
      ]
     },
     "metadata": {
      "needs_background": "light"
     },
     "output_type": "display_data"
    }
   ],
   "source": [
    "#training loop \n",
    "learning_rate = 0.9 \n",
    "costs=[]\n",
    "w1 = np.random.randn() \n",
    "w2 = np.random.randn() \n",
    "b = np.random.randn()\n",
    "for i in range (50000):\n",
    "    ri = np.random.randint(len(data)) \n",
    "    point = data[ri] \n",
    "    # мы будем обновлять веса для уменьшения ошибки в вичислениях\n",
    "    z = point[0] * w1 + point[1] * w2 + b \n",
    "    prediction = sigmoid(z) # так как z- наше значение на выходе,оно не может быть больше 1 и меньше -1 \n",
    "     \n",
    "    target = point[2]\n",
    "    cost = np.square(prediction - target) \n",
    "     \n",
    "    #costs.append(cost)\n",
    "    \n",
    "    dcost_pred = 2 * (prediction - target) \n",
    "    dpred_dz = sigmoid_p(z) \n",
    "    \n",
    "    dz_dw1 = point[0]\n",
    "    dz_dw2 = point[1] \n",
    "    dz_db = 1\n",
    "     \n",
    "    dcost_dw1 = dcost_pred * dpred_dz * dz_dw1\n",
    "    dcost_dw2 = dcost_pred * dpred_dz * dz_dw2\n",
    "    dcost_db = dcost_pred * dpred_dz * dz_db\n",
    "     \n",
    "    w1 -= learning_rate*dcost_dw1\n",
    "    w2 -= learning_rate*dcost_dw2 \n",
    "    b -= learning_rate*dcost_db \n",
    "     \n",
    "    if i % 5000 == 0:\n",
    "        print (\"Weight 1 in \" ,i , \"epoch =\", w1) \n",
    "        print (\"Weight 2 in \" ,i , \"epoch =\", w2) \n",
    "        print (\"B in \" ,i , \"epoch =\", b) \n",
    "        print (\"cost in \" ,i , \"epoch =\", cost) \n",
    "        print (\"-------------------------------\") \n",
    "        \n",
    "    cost_sum = 0 \n",
    "    for j in range(len(data)): \n",
    "        point = data[j] \n",
    "        z = point[0] * w1 + point[1] * w2 + b\n",
    "        pred = sigmoid(z) \n",
    "        cost_sum += np.square(pred - target)\n",
    "    costs.append(cost_sum) \n",
    "    \n",
    "plt.plot(costs)\n",
    "    "
   ]
  },
  {
   "cell_type": "code",
   "execution_count": null,
   "metadata": {},
   "outputs": [],
   "source": []
  },
  {
   "cell_type": "code",
   "execution_count": 846,
   "metadata": {},
   "outputs": [],
   "source": [
    "nostra = w1 * mystery_flower[0] + w2 * mystery_flower[1] + b"
   ]
  },
  {
   "cell_type": "code",
   "execution_count": 847,
   "metadata": {},
   "outputs": [
    {
     "name": "stdout",
     "output_type": "stream",
     "text": [
      "Looks like red, because predict =  0.9999999997253348\n"
     ]
    }
   ],
   "source": [
    "if sigmoid(nostra) >=0.5:\n",
    "    print(\"Looks like red, because predict = \" ,sigmoid(nostra))\n",
    "else:\n",
    "    print(\"Yeah that blue , because predict = \" ,sigmoid(nostra))"
   ]
  },
  {
   "cell_type": "code",
   "execution_count": 848,
   "metadata": {},
   "outputs": [
    {
     "data": {
      "image/png": "[encoded data removed]",
      "text/plain": [
       "<Figure size 432x288 with 1 Axes>"
      ]
     },
     "metadata": {
      "needs_background": "light"
     },
     "output_type": "display_data"
    }
   ],
   "source": [
    "#scatter data \n",
    "plt.axis([0,6,0,6]) # x.min x.max y.miny.max\n",
    "plt.grid()#сетка\n",
    "for i in range(len(data)): \n",
    "    point = data[i]  \n",
    "    color = \"r\" \n",
    "    if point[2] == 0:# какие цвета у нас в бд ,такие и тут\n",
    "         color = \"b\"\n",
    "    plt.scatter(point[0],point[1],c=color)\n",
    "    color = \"r\" \n",
    "    if sigmoid(nostra) == 0:# какие цвета у нас в бд ,такие и тут\n",
    "         color = \"b\"\n",
    "    plt.scatter(mystery_flower[0],mystery_flower[1],c=color)"
   ]
  },
  {
   "cell_type": "code",
   "execution_count": 849,
   "metadata": {},
   "outputs": [
    {
     "name": "stdout",
     "output_type": "stream",
     "text": [
      "[3, 1.5, 1]\n",
      "pred:0.9076525181141476\n",
      "[2, 1, 0]\n",
      "pred:3.9801620577930255e-08\n",
      "[4, 1.5, 1]\n",
      "pred:0.9999999832895875\n",
      "[3, 1, 0]\n",
      "pred:0.19506517933526057\n",
      "[3.5, 0.5, 1]\n",
      "pred:0.936482003586832\n",
      "[2, 0.5, 0]\n",
      "pred:9.813529886162598e-10\n",
      "[5.5, 1, 1]\n",
      "pred:1.0\n",
      "[1, 1, 0]\n",
      "pred:6.537060567529776e-15\n"
     ]
    }
   ],
   "source": [
    "for i in range(len(data)): \n",
    "    point = data[i] \n",
    "    z = point[0] * w1 + point[1] * w2 + b \n",
    "    pred=sigmoid(z)\n",
    "    print(data[i])\n",
    "    print(\"pred:{}\".format(pred))"
   ]
  },
  {
   "cell_type": "code",
   "execution_count": null,
   "metadata": {},
   "outputs": [],
   "source": []
  }
 ],
 "metadata": {
  "kernelspec": {
   "display_name": "Python 3",
   "language": "python",
   "name": "python3"
  },
  "language_info": {
   "codemirror_mode": {
    "name": "ipython",
    "version": 3
   },
   "file_extension": ".py",
   "mimetype": "text/x-python",
   "name": "python",
   "nbconvert_exporter": "python",
   "pygments_lexer": "ipython3",
   "version": "3.8.3"
  }
 },
 "nbformat": 4,
 "nbformat_minor": 4
}
